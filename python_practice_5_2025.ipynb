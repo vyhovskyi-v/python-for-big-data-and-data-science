{
  "nbformat": 4,
  "nbformat_minor": 0,
  "metadata": {
    "colab": {
      "provenance": [],
      "include_colab_link": true
    },
    "kernelspec": {
      "name": "python3",
      "display_name": "Python 3"
    },
    "language_info": {
      "name": "python"
    }
  },
  "cells": [
    {
      "cell_type": "markdown",
      "metadata": {
        "id": "view-in-github",
        "colab_type": "text"
      },
      "source": [
        "<a href=\"https://colab.research.google.com/github/vyhovskyi-v/python-for-big-data-and-data-science/blob/master/python_practice_5_2025.ipynb\" target=\"_parent\"><img src=\"https://colab.research.google.com/assets/colab-badge.svg\" alt=\"Open In Colab\"/></a>"
      ]
    },
    {
      "cell_type": "markdown",
      "source": [
        "# I. OOP"
      ],
      "metadata": {
        "id": "5qV_sehzFCTp"
      }
    },
    {
      "cell_type": "markdown",
      "source": [
        "1. (6б). Створіть клас Building, додайте три атрибути, один з яких має значення за замовчуванням та два методи на свій розсуд."
      ],
      "metadata": {
        "id": "tx_U_hOALyfg"
      }
    },
    {
      "cell_type": "code",
      "source": [
        "class Building:\n",
        "  def __init__(self,length, width , height,floors_number = 1):\n",
        "    self.length = length\n",
        "    self.width = width\n",
        "    self.height = height\n",
        "    self.floor_number = floors_number\n",
        "\n",
        "  def area(self):\n",
        "    return self.width * self.length\n",
        "\n",
        "  def floor_height(self):\n",
        "    return self.height/self.floor_number\n"
      ],
      "metadata": {
        "id": "-Vf895KaL88N"
      },
      "execution_count": 24,
      "outputs": []
    },
    {
      "cell_type": "markdown",
      "source": [
        "2. (2б). Створіть два обʼєкти цього класу, де один з обʼєктів створюється із дефолтним значенням атрибуту. На одному обʼєкті отримайте значення його атрибуту, а на іншому викличте один з його методів."
      ],
      "metadata": {
        "id": "X_UlOMB0L93w"
      }
    },
    {
      "cell_type": "code",
      "source": [
        "building1 = Building(20,20,5)\n",
        "building2 = Building(50,20,20,5)\n",
        "\n",
        "print(building1.area())\n",
        "print(building2.floor_height())"
      ],
      "metadata": {
        "id": "7gBu0ESOMCpG",
        "colab": {
          "base_uri": "https://localhost:8080/"
        },
        "outputId": "2af079a7-758c-451c-82b5-76b7edbd8bc3"
      },
      "execution_count": 12,
      "outputs": [
        {
          "output_type": "stream",
          "name": "stdout",
          "text": [
            "400\n",
            "4.0\n"
          ]
        }
      ]
    },
    {
      "cell_type": "markdown",
      "source": [
        "3. (5б). Створіть клас, де атрибути мають різні рівні доступу. Спробуйте отримати їхні значення та опишіть результати."
      ],
      "metadata": {
        "id": "HoqSCZt1MHn5"
      }
    },
    {
      "cell_type": "code",
      "source": [],
      "metadata": {
        "id": "r9b3vJxBMSPV"
      },
      "execution_count": null,
      "outputs": []
    },
    {
      "cell_type": "markdown",
      "source": [
        "4. (7б). Як ви розумієте термін self? Для чого використовується метод __init __?"
      ],
      "metadata": {
        "id": "5op2m2vgMSkZ"
      }
    },
    {
      "cell_type": "markdown",
      "source": [
        "self - вказівник на об'єкт, __init__ для ініціалізації атрибутів об'єкта"
      ],
      "metadata": {
        "id": "DyiPqNRvMasx"
      }
    },
    {
      "cell_type": "markdown",
      "source": [
        "5. (9б). Створіть клас 3D-фігура без атрибутів, з методом get_volume для отримання об'єму фігури, що повертає 0 та __add __, який приймає self та other в якості аргументів, а повертає суму об'ємів 3d-фігур self та other."
      ],
      "metadata": {
        "id": "-6X8EGfjMd2y"
      }
    },
    {
      "cell_type": "code",
      "source": [
        "class Figure3D:\n",
        "  def get_volume(self):\n",
        "    return 0\n",
        "\n",
        "  def __add__(self, other):\n",
        "    return self.get_volume() + other.get_volume()\n"
      ],
      "metadata": {
        "id": "4rvO_wYUMaEr"
      },
      "execution_count": 14,
      "outputs": []
    },
    {
      "cell_type": "markdown",
      "source": [
        "6. (11б). Створіть 2 дочірніх класи від 3d-фігура: Циліндр та Куб, які мають атрибути, необхідні для розрахунку об'єму. Визначте метод get_volume в кожному з них так, щоби вони розраховували об'єм у залежності від формули для кожного типу фігури. Створіть обʼєкт класу Циліндр та обʼєкт класу Куб. Виконайте операцію суми за допомогою оператора + між ними, аби знайти сумарний об'єм."
      ],
      "metadata": {
        "id": "SFcKnnv5Mo_z"
      }
    },
    {
      "cell_type": "code",
      "source": [
        "import math\n",
        "\n",
        "class Cylinder(Figure3D):\n",
        "    def __init__(self, radius, height):\n",
        "      self.radius = radius\n",
        "      self.height = height\n",
        "\n",
        "    def get_volume(self):\n",
        "      return math.pi*pow(self.radius, 2)*self.height\n",
        "\n",
        "class Cube(Figure3D):\n",
        "      def __init__(self, length):\n",
        "        self.length = length\n",
        "\n",
        "      def get_volume(self):\n",
        "        return pow(self.length, 3)\n",
        "\n",
        "cylinder = Cylinder(6,10)\n",
        "cube = Cube(10)\n",
        "\n",
        "print(cube.__add__(cylinder))"
      ],
      "metadata": {
        "id": "H3GVNr69Muf3",
        "colab": {
          "base_uri": "https://localhost:8080/"
        },
        "outputId": "160e8714-934b-4d4f-c91f-88d81e5c1ccf"
      },
      "execution_count": 17,
      "outputs": [
        {
          "output_type": "stream",
          "name": "stdout",
          "text": [
            "2130.9733552923253\n"
          ]
        }
      ]
    },
    {
      "cell_type": "markdown",
      "source": [
        "7. (3б). Продемонструйте різницю між isinstance та issubclass."
      ],
      "metadata": {
        "id": "HCvR206YMvLK"
      }
    },
    {
      "cell_type": "code",
      "source": [
        "figure = Figure3D()\n",
        "print(isinstance(cube, Figure3D)) #Перевіряє чи належить об'єкт класу, або дочірнім класам\n",
        "\n",
        "print(issubclass(cube, Figure3D)) #Перевіряє чи є клас дочірнім до іншого класу"
      ],
      "metadata": {
        "id": "L_V1bBvDM0GN",
        "colab": {
          "base_uri": "https://localhost:8080/",
          "height": 193
        },
        "outputId": "068c6d5e-2d5e-49d6-bd72-41abbc202587"
      },
      "execution_count": 23,
      "outputs": [
        {
          "output_type": "stream",
          "name": "stdout",
          "text": [
            "True\n"
          ]
        },
        {
          "output_type": "error",
          "ename": "TypeError",
          "evalue": "issubclass() arg 1 must be a class",
          "traceback": [
            "\u001b[0;31m---------------------------------------------------------------------------\u001b[0m",
            "\u001b[0;31mTypeError\u001b[0m                                 Traceback (most recent call last)",
            "\u001b[0;32m<ipython-input-23-fc8640aa6696>\u001b[0m in \u001b[0;36m<cell line: 0>\u001b[0;34m()\u001b[0m\n\u001b[1;32m      2\u001b[0m \u001b[0mprint\u001b[0m\u001b[0;34m(\u001b[0m\u001b[0misinstance\u001b[0m\u001b[0;34m(\u001b[0m\u001b[0mcube\u001b[0m\u001b[0;34m,\u001b[0m \u001b[0mFigure3D\u001b[0m\u001b[0;34m)\u001b[0m\u001b[0;34m)\u001b[0m\u001b[0;34m\u001b[0m\u001b[0;34m\u001b[0m\u001b[0m\n\u001b[1;32m      3\u001b[0m \u001b[0;34m\u001b[0m\u001b[0m\n\u001b[0;32m----> 4\u001b[0;31m \u001b[0mprint\u001b[0m\u001b[0;34m(\u001b[0m\u001b[0missubclass\u001b[0m\u001b[0;34m(\u001b[0m\u001b[0mcube\u001b[0m\u001b[0;34m,\u001b[0m \u001b[0mFigure3D\u001b[0m\u001b[0;34m)\u001b[0m\u001b[0;34m)\u001b[0m\u001b[0;34m\u001b[0m\u001b[0;34m\u001b[0m\u001b[0m\n\u001b[0m",
            "\u001b[0;31mTypeError\u001b[0m: issubclass() arg 1 must be a class"
          ]
        }
      ]
    },
    {
      "cell_type": "markdown",
      "source": [
        "8. (13б). Створіть клас EWallet з приватними атрибутами balance та id. Реалізуйте методи поповнення та зняття коштів, забезпечивши належну інкапсуляцію. Підказка: використовуйте декоратори property та setter."
      ],
      "metadata": {
        "id": "jjsaBZ-iM0Qq"
      }
    },
    {
      "cell_type": "code",
      "source": [
        "class EWallet:\n",
        "  def __init__(self, balance, id):\n",
        "    self.__balance = balance\n",
        "    self.__id = id\n",
        "\n",
        "  @property\n",
        "  def current_balance(self):\n",
        "    return self.balance\n",
        "\n",
        "  @current_balance.setter\n",
        "  def top_up(self, sum):\n",
        "    self.current_balance += sum\n",
        "    print(f\"successfully topped up with {sum}$\")\n",
        "\n",
        "  @current_balance.setter\n",
        "  def withdraw(self, sum):\n",
        "    if self.current_balance < sum:\n",
        "      print(\"insufficient funds in the account\")\n",
        "    self.current_balance -= sum\n",
        "    print(f\"{sum}$ successfully withdrawn\")\n",
        "\n",
        "\n",
        ""
      ],
      "metadata": {
        "id": "xCvZ7lh8M7YA"
      },
      "execution_count": null,
      "outputs": []
    },
    {
      "cell_type": "markdown",
      "source": [
        "9. (11б). Створіть клас ShoppingCart, який містить список об'єктів типу Item. Реалізуйте методи для додавання айтемів, їх видалення та відображення списку айтемів."
      ],
      "metadata": {
        "id": "tIzL2SJTM8ft"
      }
    },
    {
      "cell_type": "code",
      "source": [
        "class Item:\n",
        "  pass\n",
        "\n",
        "class ShoppingCart:\n",
        "  def __init__(self, items: list[str] = []):\n",
        "    self.items = items\n",
        "\n",
        "  def add(self, item):\n",
        "    self.items.append(item)\n",
        "\n",
        "  def remove(self, item):\n",
        "    self.items.remove(item)\n",
        "\n",
        "  def __str__(self):\n",
        "    return str(self.items)\n"
      ],
      "metadata": {
        "id": "HWxfJKLtNAUZ",
        "colab": {
          "base_uri": "https://localhost:8080/"
        },
        "outputId": "fbe134a7-9455-471e-9580-09e11a7d2231"
      },
      "execution_count": 27,
      "outputs": [
        {
          "output_type": "stream",
          "name": "stdout",
          "text": [
            "['abc', 'abc,']\n"
          ]
        }
      ]
    },
    {
      "cell_type": "markdown",
      "source": [
        "10. (13б). Створіть клас Vehicle з атрибутами brand (manufacturer) та production_age. Створіть ще один клас Engine з такими атрибутами, як type (ex. petrol) та size (volume, litres). Створіть клас Car, який успадковує обидва класи Vehicle та Engine. Продемонструйте використання множинної спадковості, створивши обʼєкт класу Car та отримавши mro для цього класу."
      ],
      "metadata": {
        "id": "lmV8pAwwNIqu"
      }
    },
    {
      "cell_type": "code",
      "source": [
        "class Vehicle:\n",
        "  def __init__(self, brand, production_age):\n",
        "    self.brand = brand\n",
        "    self.production_age = production_age\n",
        "\n",
        "class Engine:\n",
        "  def __init__(self, engine_type, size):\n",
        "    self.engine_type = engine_type\n",
        "    self.size = size\n",
        "\n",
        "class Car(Vehicle, Engine):\n",
        "  pass\n",
        "\n",
        "Car.mro()"
      ],
      "metadata": {
        "id": "R49grKlWNPeN",
        "colab": {
          "base_uri": "https://localhost:8080/"
        },
        "outputId": "3554a58a-7322-44d0-d493-04430b7c31e6"
      },
      "execution_count": 31,
      "outputs": [
        {
          "output_type": "execute_result",
          "data": {
            "text/plain": [
              "[__main__.Car, __main__.Vehicle, __main__.Engine, object]"
            ]
          },
          "metadata": {},
          "execution_count": 31
        }
      ]
    },
    {
      "cell_type": "markdown",
      "source": [
        "# II. Iterator"
      ],
      "metadata": {
        "id": "dIJyUiNBFG8G"
      }
    },
    {
      "cell_type": "markdown",
      "source": [
        "11. (4б). Визначте рядок(str) з 4ма різними за значенням символами. Створіть ітератор на основі цього рядка. Викличте 5 разів функцію next на ітераторі, 4ри перших з них огорніть у ф-цію print()."
      ],
      "metadata": {
        "id": "13vsm0NyKIzL"
      }
    },
    {
      "cell_type": "code",
      "source": [
        "str_var = 'abcd'\n",
        "str_var_iterator = iter(str_var)\n",
        "\n",
        "print(next(str_var_iterator))\n",
        "print(next(str_var_iterator))\n",
        "print(next(str_var_iterator))\n",
        "print(next(str_var_iterator))\n",
        "next(str_var_iterator)"
      ],
      "metadata": {
        "id": "81ntabAkKuz-",
        "colab": {
          "base_uri": "https://localhost:8080/",
          "height": 245
        },
        "outputId": "efc8f16e-292e-43e5-fa32-da93e7f9aa42"
      },
      "execution_count": 34,
      "outputs": [
        {
          "output_type": "stream",
          "name": "stdout",
          "text": [
            "a\n",
            "b\n",
            "c\n",
            "d\n"
          ]
        },
        {
          "output_type": "error",
          "ename": "StopIteration",
          "evalue": "",
          "traceback": [
            "\u001b[0;31m---------------------------------------------------------------------------\u001b[0m",
            "\u001b[0;31mStopIteration\u001b[0m                             Traceback (most recent call last)",
            "\u001b[0;32m<ipython-input-34-39449bf4554f>\u001b[0m in \u001b[0;36m<cell line: 0>\u001b[0;34m()\u001b[0m\n\u001b[1;32m      6\u001b[0m \u001b[0mprint\u001b[0m\u001b[0;34m(\u001b[0m\u001b[0mnext\u001b[0m\u001b[0;34m(\u001b[0m\u001b[0mstr_var_iterator\u001b[0m\u001b[0;34m)\u001b[0m\u001b[0;34m)\u001b[0m\u001b[0;34m\u001b[0m\u001b[0;34m\u001b[0m\u001b[0m\n\u001b[1;32m      7\u001b[0m \u001b[0mprint\u001b[0m\u001b[0;34m(\u001b[0m\u001b[0mnext\u001b[0m\u001b[0;34m(\u001b[0m\u001b[0mstr_var_iterator\u001b[0m\u001b[0;34m)\u001b[0m\u001b[0;34m)\u001b[0m\u001b[0;34m\u001b[0m\u001b[0;34m\u001b[0m\u001b[0m\n\u001b[0;32m----> 8\u001b[0;31m \u001b[0mnext\u001b[0m\u001b[0;34m(\u001b[0m\u001b[0mstr_var_iterator\u001b[0m\u001b[0;34m)\u001b[0m\u001b[0;34m\u001b[0m\u001b[0;34m\u001b[0m\u001b[0m\n\u001b[0m",
            "\u001b[0;31mStopIteration\u001b[0m: "
          ]
        }
      ]
    },
    {
      "cell_type": "markdown",
      "source": [
        "А що якщо викликати цю ж функцію на рядку?"
      ],
      "metadata": {
        "id": "aekWHGXOLRsO"
      }
    },
    {
      "cell_type": "code",
      "source": [
        "next(str_var)"
      ],
      "metadata": {
        "id": "mxATGsErLV1i",
        "colab": {
          "base_uri": "https://localhost:8080/",
          "height": 141
        },
        "outputId": "1b75bccf-1080-4917-b4e2-01f923e9f0c0"
      },
      "execution_count": 35,
      "outputs": [
        {
          "output_type": "error",
          "ename": "TypeError",
          "evalue": "'str' object is not an iterator",
          "traceback": [
            "\u001b[0;31m---------------------------------------------------------------------------\u001b[0m",
            "\u001b[0;31mTypeError\u001b[0m                                 Traceback (most recent call last)",
            "\u001b[0;32m<ipython-input-35-607977c8f7c9>\u001b[0m in \u001b[0;36m<cell line: 0>\u001b[0;34m()\u001b[0m\n\u001b[0;32m----> 1\u001b[0;31m \u001b[0mnext\u001b[0m\u001b[0;34m(\u001b[0m\u001b[0mstr_var\u001b[0m\u001b[0;34m)\u001b[0m\u001b[0;34m\u001b[0m\u001b[0;34m\u001b[0m\u001b[0m\n\u001b[0m",
            "\u001b[0;31mTypeError\u001b[0m: 'str' object is not an iterator"
          ]
        }
      ]
    },
    {
      "cell_type": "markdown",
      "source": [
        " 12. (5б). Опишіть своїми словами в одному реченні, як ви розумієте різницю між ітерабельними обʼєктами та ітераторами (можна на прикладі)."
      ],
      "metadata": {
        "id": "XwtMEopwJ4pH"
      }
    },
    {
      "cell_type": "markdown",
      "source": [
        "Ітерабельний об'єкт той який можна перерахувати , наприклад за допомогою for ir, ітератор об'єкт за допомогою якого можна перерахувати певний об'єкт"
      ],
      "metadata": {
        "id": "-sHrODc3KFn8"
      }
    },
    {
      "cell_type": "markdown",
      "source": [
        "13. (11б). Створіть клас, що має визначений Iterator Protocol та при кожному виклику next повертає назву дня тижня, поки вони не вичерпаються. Зверніть увагу, що порядок має значення."
      ],
      "metadata": {
        "id": "E9qJWmNbK8Gl"
      }
    },
    {
      "cell_type": "code",
      "source": [
        "class MyClass:\n",
        "  def __init__(self):\n",
        "    self.days = [\"Monday\", \"Tuesday\", \"Wednsday\", \"Thursday\", \"Friday\", \"Saturday\", \"Sunday\"]\n",
        "    self.current = 0\n",
        "\n",
        "  def __iter__(self):\n",
        "    return self\n",
        "\n",
        "  def __next__(self):\n",
        "    if self.current >= len(self.days):\n",
        "      raise StopIteration\n",
        "    value = self.days[self.current]\n",
        "    self.current += 1\n",
        "    return value\n"
      ],
      "metadata": {
        "id": "cqx-g_RsLo6I",
        "colab": {
          "base_uri": "https://localhost:8080/"
        },
        "outputId": "ebfed250-f29c-4aa5-824d-b536d2463a0d"
      },
      "execution_count": 41,
      "outputs": [
        {
          "output_type": "stream",
          "name": "stdout",
          "text": [
            "Monday\n",
            "Tuesday\n",
            "Wednsday\n",
            "Thursday\n"
          ]
        }
      ]
    },
    {
      "cell_type": "markdown",
      "source": [
        "# Вітаю! Ви велика(ий) молодець, що впоралась(вся). Похваліть себе та побалуйте чимось приємним. Я Вами пишаюся."
      ],
      "metadata": {
        "id": "Z3E3S_s1Fv7-"
      }
    }
  ]
}